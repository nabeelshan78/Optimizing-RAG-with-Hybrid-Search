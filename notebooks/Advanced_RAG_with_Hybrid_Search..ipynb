{
 "cells": [
  {
   "cell_type": "markdown",
   "id": "5dc2152e-deaa-4847-9b47-583789160cd8",
   "metadata": {},
   "source": [
    "# RAG System with Hybrid Search Comparison\n",
    "\n",
    "This notebook builds and evaluates a Retrieval-Augmented Generation (RAG) system using a news dataset. It implements and compares three distinct retrieval strategies:\n",
    "\n",
    "1.  **BM25:** A classic keyword-based (lexical) search.\n",
    "2.  **Semantic Search:** Using `SentenceTransformer` embeddings for meaning-based retrieval.\n",
    "3.  **Reciprocal Rank Fusion (RRF):** A hybrid method that combines the ranks from the two methods above.\n",
    "\n",
    "The final step integrates these retrievers into a RAG pipeline that provides context to a Llama 3 LLM. An interactive widget is used to query the system and directly compare the final, generated answers from each method against a baseline non-RAG response."
   ]
  },
  {
   "cell_type": "code",
   "execution_count": 1,
   "id": "67f29c11-cd7a-402b-a378-1619946426d2",
   "metadata": {
    "tags": []
   },
   "outputs": [],
   "source": [
    "import joblib\n",
    "import numpy as np\n",
    "import bm25s\n",
    "import os\n",
    "from sentence_transformers import SentenceTransformer"
   ]
  },
  {
   "cell_type": "code",
   "execution_count": 2,
   "id": "a9ba0ecf-3746-40c2-9da3-25ba4e051b88",
   "metadata": {
    "tags": []
   },
   "outputs": [],
   "source": [
    "from utils import (\n",
    "    read_dataframe,\n",
    "    pprint, \n",
    "    generate_with_single_input, \n",
    "    cosine_similarity,\n",
    "    display_widget\n",
    ")\n",
    "import unittests"
   ]
  },
  {
   "cell_type": "markdown",
   "id": "9ed048f5-cfa2-4105-848d-fe2610a21fb3",
   "metadata": {},
   "source": [
    "## Loading the Datase"
   ]
  },
  {
   "cell_type": "code",
   "execution_count": 3,
   "id": "5efa58af-9394-4c1d-b46d-c0cd299ab9d1",
   "metadata": {
    "tags": []
   },
   "outputs": [],
   "source": [
    "NEWS_DATA = read_dataframe(\"news_data_dedup.csv\")"
   ]
  },
  {
   "cell_type": "code",
   "execution_count": 4,
   "id": "9d95dfa1-421b-4328-926d-c850e91e82a3",
   "metadata": {
    "tags": []
   },
   "outputs": [
    {
     "data": {
      "text/plain": [
       "{'guid': '18ba9f2676859f393a271d15692a9c6e',\n",
       " 'title': 'WATCH: Would you pay a tourist fee to enter Venice?',\n",
       " 'description': 'From Thursday visitors making a trip to the famous city at peak times will be charged a trial entrance fee.',\n",
       " 'venue': 'BBC',\n",
       " 'url': 'https://www.bbc.co.uk/news/world-europe-68898441',\n",
       " 'published_at': '2024-04-25',\n",
       " 'updated_at': '2024-04-26'}"
      ]
     },
     "execution_count": 4,
     "metadata": {},
     "output_type": "execute_result"
    }
   ],
   "source": [
    "NEWS_DATA[5]"
   ]
  },
  {
   "cell_type": "code",
   "execution_count": 5,
   "id": "b1c47a8b-c8a9-4891-848e-bb5a98745fdc",
   "metadata": {
    "tags": []
   },
   "outputs": [
    {
     "data": {
      "text/plain": [
       "870"
      ]
     },
     "execution_count": 5,
     "metadata": {},
     "output_type": "execute_result"
    }
   ],
   "source": [
    "len(NEWS_DATA)"
   ]
  },
  {
   "cell_type": "markdown",
   "id": "73e46fca-5dfb-4e5e-b6bc-8746b7120ede",
   "metadata": {},
   "source": [
    "# Retrieve Functions"
   ]
  },
  {
   "cell_type": "markdown",
   "id": "dc492160-342f-4c8c-8ec9-fb71982e176a",
   "metadata": {},
   "source": [
    "### Query news by index"
   ]
  },
  {
   "cell_type": "code",
   "execution_count": 6,
   "id": "78cb958b-ee85-4a19-98a6-23298aea930d",
   "metadata": {
    "tags": []
   },
   "outputs": [],
   "source": [
    "def query_news(indices):\n",
    "    \"\"\"\n",
    "    Retrieves elements from a dataset based on specified indices.\n",
    "    \"\"\"\n",
    "     \n",
    "    output = [NEWS_DATA[index] for index in indices]\n",
    "    return output"
   ]
  },
  {
   "cell_type": "markdown",
   "id": "76960245-efea-4870-9878-6eb288a8ab86",
   "metadata": {},
   "source": [
    "## BM25 Retrieve"
   ]
  },
  {
   "cell_type": "code",
   "execution_count": 7,
   "id": "931fccae-88d0-4218-ad01-880b886ff8d9",
   "metadata": {
    "tags": []
   },
   "outputs": [],
   "source": [
    "# The corpus used will be the title appended with the description\n",
    "corpus = [x['title'] + \" \" + x['description'] for x in NEWS_DATA]"
   ]
  },
  {
   "cell_type": "code",
   "execution_count": 8,
   "id": "0f4cfe91-c6a2-4ff5-8f42-007832069858",
   "metadata": {
    "tags": []
   },
   "outputs": [
    {
     "data": {
      "text/plain": [
       "['Harvey Weinstein\\'s 2020 rape conviction overturned Victims group describes the New York appeal court\\'s decision to retry Hollywood mogul as \"profoundly unjust\".',\n",
       " 'Police and activists clash on Atlanta campus amid Gaza protests Meanwhile, hundreds of students march in Washington DC, and congresswoman Ilhan Omar joins protesters at a New York campus.']"
      ]
     },
     "execution_count": 8,
     "metadata": {},
     "output_type": "execute_result"
    }
   ],
   "source": [
    "corpus[:2]"
   ]
  },
  {
   "cell_type": "code",
   "execution_count": 9,
   "id": "a27e3b8a-014b-4f09-98a7-f1a51fd8c069",
   "metadata": {
    "tags": []
   },
   "outputs": [
    {
     "data": {
      "application/vnd.jupyter.widget-view+json": {
       "model_id": "",
       "version_major": 2,
       "version_minor": 0
      },
      "text/plain": [
       "Split strings:   0%|          | 0/870 [00:00<?, ?it/s]"
      ]
     },
     "metadata": {},
     "output_type": "display_data"
    },
    {
     "data": {
      "application/vnd.jupyter.widget-view+json": {
       "model_id": "",
       "version_major": 2,
       "version_minor": 0
      },
      "text/plain": [
       "BM25S Count Tokens:   0%|          | 0/870 [00:00<?, ?it/s]"
      ]
     },
     "metadata": {},
     "output_type": "display_data"
    },
    {
     "data": {
      "application/vnd.jupyter.widget-view+json": {
       "model_id": "",
       "version_major": 2,
       "version_minor": 0
      },
      "text/plain": [
       "BM25S Compute Scores:   0%|          | 0/870 [00:00<?, ?it/s]"
      ]
     },
     "metadata": {},
     "output_type": "display_data"
    },
    {
     "data": {
      "application/vnd.jupyter.widget-view+json": {
       "model_id": "",
       "version_major": 2,
       "version_minor": 0
      },
      "text/plain": [
       "Split strings:   0%|          | 0/1 [00:00<?, ?it/s]"
      ]
     },
     "metadata": {},
     "output_type": "display_data"
    },
    {
     "data": {
      "application/vnd.jupyter.widget-view+json": {
       "model_id": "",
       "version_major": 2,
       "version_minor": 0
      },
      "text/plain": [
       "BM25S Retrieve:   0%|          | 0/1 [00:00<?, ?it/s]"
      ]
     },
     "metadata": {},
     "output_type": "display_data"
    },
    {
     "name": "stdout",
     "output_type": "stream",
     "text": [
      "Results for query: What are the recent news about GDP?\n",
      "\n",
      "Document retrieved 752 : GDP and the Dow Are Up. But What About American Well-Being? The standard ways of measuring economic growth don’t capture what life is like for real people. A new metric offers a better alternative, especially for seeing disparities across the country.\n",
      "\n",
      "Document retrieved 673 : What the GDP Report Says About Inflation: A Hot First Quarter Thursday’s gross domestic product report suggests that a widely watched inflation reading due Friday could be worse than expected.\n",
      "\n",
      "Document retrieved 289 : A GDP Warning as Signs of Stagflation Appear Slower growth and persistent inflation explain why voters feel glum about the economy.\n",
      "\n"
     ]
    }
   ],
   "source": [
    "# The corpus used will be the title appended with the description\n",
    "corpus = [x['title'] + \" \" + x['description'] for x in NEWS_DATA]\n",
    "\n",
    "# Instantiate the retriever by passing the corpus data\n",
    "BM25_RETRIEVER = bm25s.BM25(corpus=corpus)\n",
    "\n",
    "# Tokenize the chunks\n",
    "tokenized_data = bm25s.tokenize(corpus)\n",
    "\n",
    "# Index the tokenized chunks within the retriever\n",
    "BM25_RETRIEVER.index(tokenized_data)\n",
    "\n",
    "# Tokenize the query\n",
    "sample_query = \"What are the recent news about GDP?\"\n",
    "tokenized_sample_query = bm25s.tokenize(sample_query)\n",
    "\n",
    "# Get the retrieved results and their respective scores\n",
    "results, scores = BM25_RETRIEVER.retrieve(tokenized_sample_query, k=3)\n",
    "\n",
    "print(f\"Results for query: {sample_query}\\n\")\n",
    "for doc in results[0]:\n",
    "    print(f\"Document retrieved {corpus.index(doc)} : {doc}\\n\")"
   ]
  },
  {
   "cell_type": "code",
   "execution_count": 10,
   "id": "fa8409c3-a7ad-4d00-b085-e0e9f4034a1d",
   "metadata": {
    "tags": []
   },
   "outputs": [
    {
     "data": {
      "text/plain": [
       "array(['GDP and the Dow Are Up. But What About American Well-Being? The standard ways of measuring economic growth don’t capture what life is like for real people. A new metric offers a better alternative, especially for seeing disparities across the country.',\n",
       "       'What the GDP Report Says About Inflation: A Hot First Quarter Thursday’s gross domestic product report suggests that a widely watched inflation reading due Friday could be worse than expected.',\n",
       "       'A GDP Warning as Signs of Stagflation Appear Slower growth and persistent inflation explain why voters feel glum about the economy.'],\n",
       "      dtype='<U251')"
      ]
     },
     "execution_count": 10,
     "metadata": {},
     "output_type": "execute_result"
    }
   ],
   "source": [
    "results[0]"
   ]
  },
  {
   "cell_type": "code",
   "execution_count": null,
   "id": "9a84b48b-cfc2-45d5-8e7e-44bf2e47e246",
   "metadata": {},
   "outputs": [],
   "source": []
  },
  {
   "cell_type": "code",
   "execution_count": 11,
   "id": "39d306dc-e269-43da-81e1-f9e93fd9a297",
   "metadata": {
    "deletable": false,
    "editable": false,
    "tags": []
   },
   "outputs": [
    {
     "data": {
      "application/vnd.jupyter.widget-view+json": {
       "model_id": "",
       "version_major": 2,
       "version_minor": 0
      },
      "text/plain": [
       "Split strings:   0%|          | 0/870 [00:00<?, ?it/s]"
      ]
     },
     "metadata": {},
     "output_type": "display_data"
    },
    {
     "data": {
      "application/vnd.jupyter.widget-view+json": {
       "model_id": "",
       "version_major": 2,
       "version_minor": 0
      },
      "text/plain": [
       "BM25S Count Tokens:   0%|          | 0/870 [00:00<?, ?it/s]"
      ]
     },
     "metadata": {},
     "output_type": "display_data"
    },
    {
     "data": {
      "application/vnd.jupyter.widget-view+json": {
       "model_id": "",
       "version_major": 2,
       "version_minor": 0
      },
      "text/plain": [
       "BM25S Compute Scores:   0%|          | 0/870 [00:00<?, ?it/s]"
      ]
     },
     "metadata": {},
     "output_type": "display_data"
    }
   ],
   "source": [
    "# Use these as a global defined BM25 retriever objects\n",
    "\n",
    "corpus = [x['title'] + \" \" + x['description'] for x in NEWS_DATA]\n",
    "BM25_RETRIEVER = bm25s.BM25(corpus=corpus)\n",
    "TOKENIZED_DATA = bm25s.tokenize(corpus)\n",
    "BM25_RETRIEVER.index(TOKENIZED_DATA)"
   ]
  },
  {
   "cell_type": "code",
   "execution_count": 12,
   "id": "79d7bfb1-aca3-45fe-8e33-3f03d5ee9b96",
   "metadata": {
    "tags": []
   },
   "outputs": [],
   "source": [
    "def bm25_retrieve(query: str, top_k: int = 5):\n",
    "    \"\"\"\n",
    "    Retrieves the top k relevant documents for a given query using the BM25 algorithm.\n",
    "\n",
    "    This function tokenizes the input query and uses a pre-indexed BM25 retriever to\n",
    "    search through a collection of documents. It returns the indices of the top k documents\n",
    "    that are most relevant to the query.\n",
    "\n",
    "    Args:\n",
    "        query (str): The search query for which documents need to be retrieved.\n",
    "        top_k (int): The number of top relevant documents to retrieve. Default is 5.\n",
    "\n",
    "    Returns:\n",
    "        List[int]: A list of indices corresponding to the top k relevant documents\n",
    "        within the corpus.\n",
    "    \"\"\"\n",
    "\n",
    "    tokenized_query = bm25s.tokenize(query)\n",
    "    results, scores = BM25_RETRIEVER.retrieve(tokenized_query, k=top_k)\n",
    "\n",
    "    results = results[0]\n",
    "\n",
    "    # Convert the retrieved documents into their corresponding indices in the results list\n",
    "    top_k_indices = [corpus.index(doc) for doc in results]\n",
    "    \n",
    "    return top_k_indices"
   ]
  },
  {
   "cell_type": "code",
   "execution_count": 13,
   "id": "cac1e0c0-0ad4-4266-a29e-7a2ed8725dea",
   "metadata": {
    "tags": []
   },
   "outputs": [
    {
     "data": {
      "application/vnd.jupyter.widget-view+json": {
       "model_id": "",
       "version_major": 2,
       "version_minor": 0
      },
      "text/plain": [
       "Split strings:   0%|          | 0/1 [00:00<?, ?it/s]"
      ]
     },
     "metadata": {},
     "output_type": "display_data"
    },
    {
     "data": {
      "application/vnd.jupyter.widget-view+json": {
       "model_id": "",
       "version_major": 2,
       "version_minor": 0
      },
      "text/plain": [
       "BM25S Retrieve:   0%|          | 0/1 [00:00<?, ?it/s]"
      ]
     },
     "metadata": {},
     "output_type": "display_data"
    },
    {
     "data": {
      "text/plain": [
       "[752, 673, 289, 626, 43]"
      ]
     },
     "execution_count": 13,
     "metadata": {},
     "output_type": "execute_result"
    }
   ],
   "source": [
    "bm25_retrieve(\"What are the recent news about GDP?\")"
   ]
  },
  {
   "cell_type": "code",
   "execution_count": null,
   "id": "4e05cd02-5b94-4b8b-b2f0-4989a453d4e9",
   "metadata": {},
   "outputs": [],
   "source": []
  },
  {
   "cell_type": "markdown",
   "id": "07a5d5b0-cd90-4e66-a150-9410b3e4b4f4",
   "metadata": {},
   "source": [
    "## Semantic Searc"
   ]
  },
  {
   "cell_type": "code",
   "execution_count": 14,
   "id": "cd5dd6b6-be5d-47e8-aa41-bce90ec9f0af",
   "metadata": {
    "tags": []
   },
   "outputs": [],
   "source": [
    "EMBEDDINGS = joblib.load(\"embeddings.joblib\")"
   ]
  },
  {
   "cell_type": "code",
   "execution_count": 15,
   "id": "c6e040ca-8bd1-4253-8de6-0e6f897ddc59",
   "metadata": {
    "tags": []
   },
   "outputs": [
    {
     "data": {
      "text/plain": [
       "(870, 768)"
      ]
     },
     "execution_count": 15,
     "metadata": {},
     "output_type": "execute_result"
    }
   ],
   "source": [
    "EMBEDDINGS.shape"
   ]
  },
  {
   "cell_type": "code",
   "execution_count": 16,
   "id": "d8b38e5d-76e2-4314-8732-765f065dbf9b",
   "metadata": {
    "tags": []
   },
   "outputs": [],
   "source": [
    "model_name = os.path.join(os.environ['MODEL_PATH'], \"BAAI/bge-base-en-v1.5\" )\n",
    "model = SentenceTransformer(model_name)"
   ]
  },
  {
   "cell_type": "code",
   "execution_count": 17,
   "id": "93f6f3c7-7778-459c-a144-f563e300c8d7",
   "metadata": {
    "tags": []
   },
   "outputs": [
    {
     "data": {
      "text/plain": [
       "array([ 0.00886302, -0.04775146, -0.00156089,  0.01309993, -0.00206938,\n",
       "       -0.06157268,  0.01384688,  0.00101498, -0.04903949, -0.04762559,\n",
       "       -0.03628184,  0.00478035, -0.03492182,  0.05323148,  0.02193964,\n",
       "        0.03645132,  0.04029363, -0.00453639,  0.01883798, -0.03367384,\n",
       "        0.02516192, -0.04843621, -0.04047944,  0.02590903,  0.02175229,\n",
       "        0.03160364,  0.03937921, -0.03640463, -0.03113303, -0.01247228,\n",
       "        0.03661649, -0.00458202, -0.00100169, -0.03188789,  0.02957137,\n",
       "        0.01986158, -0.00737474,  0.02370178, -0.02151621, -0.07361361],\n",
       "      dtype=float32)"
      ]
     },
     "execution_count": 17,
     "metadata": {},
     "output_type": "execute_result"
    }
   ],
   "source": [
    "query = \"RAG is awesome\"\n",
    "model.encode(query)[:40]"
   ]
  },
  {
   "cell_type": "code",
   "execution_count": 18,
   "id": "e65a2a2f-aa97-4e71-a8fa-25ca992b69aa",
   "metadata": {
    "tags": []
   },
   "outputs": [
    {
     "name": "stdout",
     "output_type": "stream",
     "text": [
      "Similarity between 'What are the primary colors' and 'Yellow, red and blue' = 0.7377141714096069\n",
      "Similarity between 'What are the primary colors' and 'Cats are friendly animals' = 0.4508620798587799\n"
     ]
    }
   ],
   "source": [
    "query1 = \"What are the primary colors\"\n",
    "query2 = \"Yellow, red and blue\"\n",
    "query3 = \"Cats are friendly animals\"\n",
    "\n",
    "query1_embed = model.encode(query1)\n",
    "query2_embed = model.encode(query2)\n",
    "query3_embed = model.encode(query3)\n",
    "\n",
    "print(f\"Similarity between '{query1}' and '{query2}' = {cosine_similarity(query1_embed, query2_embed)[0]}\")\n",
    "print(f\"Similarity between '{query1}' and '{query3}' = {cosine_similarity(query1_embed, query3_embed)[0]}\")"
   ]
  },
  {
   "cell_type": "code",
   "execution_count": 19,
   "id": "7ce67b89-756b-4639-8e0f-4aefdbf5553d",
   "metadata": {
    "tags": []
   },
   "outputs": [
    {
     "name": "stdout",
     "output_type": "stream",
     "text": [
      "[350 176]\n"
     ]
    }
   ],
   "source": [
    "query = \"Taylor Swift\"\n",
    "query_embed = model.encode(query)\n",
    "similarity_scores = cosine_similarity(query_embed, EMBEDDINGS)\n",
    "similarity_indices = np.argsort(-similarity_scores) # Sort on decreasing order (sort the negative on increasing order), but return the indices\n",
    "# Top 2 indices\n",
    "top_2_indices = similarity_indices[:2]\n",
    "print(top_2_indices)"
   ]
  },
  {
   "cell_type": "code",
   "execution_count": 20,
   "id": "78d68a2a-f449-4353-8aee-884d634b3a0d",
   "metadata": {
    "tags": []
   },
   "outputs": [
    {
     "data": {
      "text/plain": [
       "[{'guid': '927257674585bb6ef669cf2c2f409fa7',\n",
       "  'title': '‘The working class can’t afford it’: the shocking truth about the money bands make on tour',\n",
       "  'description': 'As Taylor Swift tops $1bn in tour revenue, musicians playing smaller venues are facing pitiful fees and frequent losses. Should the state step in to save our live music scene?When you see a band playing to thousands of fans in a sun-drenched festival field, signing a record deal with a major label or playing endlessly from the airwaves, it’s easy to conjure an image of success that comes with some serious cash to boot – particularly when Taylor Swift has broken $1bn in revenue for her current Eras tour. But looks can be deceiving. “I don’t blame the public for seeing a band playing to 2,000 people and thinking they’re minted,” says artist manager Dan Potts. “But the reality is quite different.”Post-Covid there has been significant focus on grassroots music venues as they struggle to stay open. There’s been less focus on the actual ability of artists to tour these venues. David Martin, chief executive officer of the Featured Artists Coalition (FAC), says we’re in a “cost-of-touring crisis”. Pretty much every cost attached to touring – van hire, crew, travel, accommodation, food and drink – has gone up, while fees and audiences often have not. “[Playing] live is becoming financially unsustainable for many artists,” he says. “Artists are seeing [playing] live as a loss leader now. That’s if they can even afford to make it work in the first place.” Continue reading...',\n",
       "  'venue': 'The Guardian',\n",
       "  'url': 'https://www.theguardian.com/music/2024/apr/25/shocking-truth-money-bands-make-on-tour-taylor-swift',\n",
       "  'published_at': '2024-04-25',\n",
       "  'updated_at': '2024-04-26'},\n",
       " {'guid': 'e8712c1d69d29f0ca802f07d9b60ffe7',\n",
       "  'title': 'Estate of Tupac Shakur threatens legal action against Drake over AI diss track',\n",
       "  'description': 'Drake used AI to simulate the voice of the late rapper and have him chide Kendrick Lamar, which the estate calls a ‘flagrant violation’The estate of the late Tupac Shakur has sent a cease and desist letter to Drake, following the release of a Drake track that uses an AI version of Shakur’s voice to lambast Kendrick Lamar.As seen by Billboard, the letter instructs Drake to remove the track, Taylor Made Freestyle, within 24 hours, or face legal action. Continue reading...',\n",
       "  'venue': 'The Guardian',\n",
       "  'url': 'https://www.theguardian.com/music/2024/apr/25/estate-of-tupac-shakur-threatens-legal-action-against-drake-over-ai-diss-track',\n",
       "  'published_at': '2024-04-25',\n",
       "  'updated_at': '2024-04-26'}]"
      ]
     },
     "execution_count": 20,
     "metadata": {},
     "output_type": "execute_result"
    }
   ],
   "source": [
    "query_news(top_2_indices)"
   ]
  },
  {
   "cell_type": "code",
   "execution_count": null,
   "id": "d6fdff6f-7b91-4f9f-93a9-c2e00522d8ac",
   "metadata": {},
   "outputs": [],
   "source": []
  },
  {
   "cell_type": "code",
   "execution_count": 21,
   "id": "8a81ad03-0365-48d3-8156-438e41cac3a2",
   "metadata": {
    "tags": []
   },
   "outputs": [],
   "source": [
    "def semantic_search_retrieve(query, top_k=5):\n",
    "    \"\"\"\n",
    "    Retrieves the top k relevant documents for a given query using semantic search and cosine similarity.\n",
    "\n",
    "    This function generates an embedding for the input query and compares it against pre-computed document\n",
    "    embeddings using cosine similarity. The indices of the top k most similar documents are returned.\n",
    "\n",
    "    Args:\n",
    "        query (str): The search query for which relevant documents need to be retrieved.\n",
    "        top_k (int): The number of top relevant documents to retrieve. Default value is 5.\n",
    "\n",
    "    Returns:\n",
    "        List[int]: A list of indices corresponding to the top k most relevant documents in the corpus.\n",
    "    \"\"\"\n",
    "    query_embedding = model.encode(query)\n",
    "    similarity_scores = cosine_similarity(query_embedding, EMBEDDINGS)\n",
    "    similarity_indices = np.argsort(-similarity_scores)\n",
    "    top_k_indices_array = similarity_indices[:top_k]\n",
    "    top_k_indices = [int(x) for x in top_k_indices_array]\n",
    "    \n",
    "    return top_k_indices"
   ]
  },
  {
   "cell_type": "code",
   "execution_count": 22,
   "id": "6ff3798d-9127-4e3d-8872-f2e3ddeb6d7a",
   "metadata": {
    "tags": []
   },
   "outputs": [
    {
     "data": {
      "text/plain": [
       "[743, 673, 626, 752, 326]"
      ]
     },
     "execution_count": 22,
     "metadata": {},
     "output_type": "execute_result"
    }
   ],
   "source": [
    "semantic_search_retrieve(\"What are the recent news about GDP?\")"
   ]
  },
  {
   "cell_type": "code",
   "execution_count": null,
   "id": "8233f0db-0a68-426e-b1c2-4df83c37c350",
   "metadata": {},
   "outputs": [],
   "source": []
  },
  {
   "cell_type": "markdown",
   "id": "bd41eb83-fda7-4ea0-9a7f-546a97b207df",
   "metadata": {},
   "source": [
    "## RRF Retrieve\n",
    "\n",
    "Reciprocal Rank Fusion (RRF) is an information retrieval technique used to combine results from multiple ranking systems. It aims to enhance the overall retrieval performance by integrating different ranking algorithms. RRF assigns a score to each document based on its rank in different result lists, allowing it to leverage the strengths of several retrieval approaches.\n",
    "\n",
    "\n",
    "$$ \n",
    "\\text{Score}(d) = \\sum_{r=1}^{n} \\frac{1}{k + \\text{rank}_r(d)} \n",
    "$$\n",
    "\n",
    "- $n$ is the number of ranking systems,\n",
    "- $\\text{rank}_r(d)$ is the rank of document $d$ in the $r$-th result list,\n",
    "- $k$ is a constant to scale the contribution of each rank, often set to a small positive value."
   ]
  },
  {
   "cell_type": "code",
   "execution_count": 23,
   "id": "39f146ae-d2bd-4918-8b60-0b02a1b24349",
   "metadata": {
    "tags": []
   },
   "outputs": [],
   "source": [
    "def reciprocal_rank_fusion(list1, list2, top_k=5, K=60):\n",
    "    \"\"\"\n",
    "    Fuse rank from multiple IR systems using Reciprocal Rank Fusion.\n",
    "\n",
    "    Args:\n",
    "        list1 (list[int]): A list of indices of the top-k documents that match the query.\n",
    "        list2 (list[int]): Another list of indices of the top-k documents that match the query.\n",
    "        top_k (int): The number of top documents to consider from each list for fusion. Defaults to 5.\n",
    "        K (int): A constant used in the RRF formula. Defaults to 60.\n",
    "\n",
    "    Returns:\n",
    "        list[int]: A list of indices of the top-k documents sorted by their RRF scores.\n",
    "    \"\"\"\n",
    "\n",
    "    rrf_scores = {}\n",
    "\n",
    "    # Iterate over each document list\n",
    "    for lst in [list1, list2]:\n",
    "        # Calculate the RRF score for each document index\n",
    "        for rank, item in enumerate(lst, start=1):\n",
    "            # If the item is not in the dictionary, initialize its score to 0\n",
    "            if item not in rrf_scores:\n",
    "                rrf_scores[item] = 0\n",
    "            # Update the RRF score for each document index using the formula 1 / (rank + K)\n",
    "            rrf_scores[item] += 1 / (K + rank)\n",
    "\n",
    "    # Sort the document indices based on their RRF scores in descending order\n",
    "    sorted_items = sorted(rrf_scores, key=rrf_scores.get, reverse = True)\n",
    "\n",
    "    # Slice the list to get the top-k document indices\n",
    "    top_k_indices = [int(x) for x in sorted_items[:top_k]]\n",
    "\n",
    "    return top_k_indices"
   ]
  },
  {
   "cell_type": "code",
   "execution_count": null,
   "id": "bf939777-2acc-42e6-8b2a-0967d540ffd3",
   "metadata": {},
   "outputs": [],
   "source": []
  },
  {
   "cell_type": "code",
   "execution_count": 24,
   "id": "ab06c720-5e9d-496f-8a55-77748df4fa1e",
   "metadata": {
    "tags": []
   },
   "outputs": [
    {
     "data": {
      "application/vnd.jupyter.widget-view+json": {
       "model_id": "",
       "version_major": 2,
       "version_minor": 0
      },
      "text/plain": [
       "Split strings:   0%|          | 0/1 [00:00<?, ?it/s]"
      ]
     },
     "metadata": {},
     "output_type": "display_data"
    },
    {
     "data": {
      "application/vnd.jupyter.widget-view+json": {
       "model_id": "",
       "version_major": 2,
       "version_minor": 0
      },
      "text/plain": [
       "BM25S Retrieve:   0%|          | 0/1 [00:00<?, ?it/s]"
      ]
     },
     "metadata": {},
     "output_type": "display_data"
    },
    {
     "name": "stdout",
     "output_type": "stream",
     "text": [
      "Semantic Search List: [743, 673, 626, 752, 326]\n",
      "BM25 List: [752, 673, 289, 626, 43]\n",
      "RRF List: [673, 752, 626, 743, 289]\n"
     ]
    }
   ],
   "source": [
    "list1 = semantic_search_retrieve('What are the recent news about GDP?')\n",
    "list2 = bm25_retrieve('What are the recent news about GDP?')\n",
    "rrf_list = reciprocal_rank_fusion(list1, list2)\n",
    "print(f\"Semantic Search List: {list1}\")\n",
    "print(f\"BM25 List: {list2}\")\n",
    "print(f\"RRF List: {rrf_list}\")"
   ]
  },
  {
   "cell_type": "markdown",
   "id": "35f2eefc-3310-4703-ad68-3c65a1f633a5",
   "metadata": {},
   "source": [
    "## RAG System\n",
    "\n",
    "### Creating the final prompt"
   ]
  },
  {
   "cell_type": "code",
   "execution_count": 25,
   "id": "03068075-bfec-4bd8-b032-0c16503339df",
   "metadata": {
    "tags": []
   },
   "outputs": [],
   "source": [
    "def generate_final_prompt(query, top_k, retrieve_function=None, use_rag=True):\n",
    "    \"\"\"\n",
    "    Generates an augmented prompt for a Retrieval-Augmented Generation (RAG) system by retrieving the top_k most \n",
    "    relevant documents based on a given query.\n",
    "\n",
    "    Parameters:\n",
    "    query (str): The search query for which the relevant documents are to be retrieved.\n",
    "    top_k (int): The number of top relevant documents to retrieve.\n",
    "    retrieve_function (callable): The function used to retrieve relevant documents. If 'reciprocal_rank_fusion', \n",
    "                                  it will combine results from different retrieval functions.\n",
    "    use_rag (bool): A flag to determine whether to incorporate retrieved data into the prompt (default is True).\n",
    "\n",
    "    Returns:\n",
    "    str: A prompt that includes the top_k relevant documents formatted for use in a RAG system.\n",
    "    \"\"\"    \n",
    "    prompt = query\n",
    "    \n",
    "    if not use_rag:\n",
    "        return prompt\n",
    "\n",
    "\n",
    "    # Determine which retrieve function to use based on its name.\n",
    "    if retrieve_function.__name__ == 'reciprocal_rank_fusion':\n",
    "        # Retrieve top documents using two different methods.\n",
    "        list1 = semantic_search_retrieve(query, top_k)\n",
    "        list2 = bm25_retrieve(query, top_k)\n",
    "        # Combine the results using reciprocal rank fusion.\n",
    "        top_k_indices = retrieve_function(list1, list2, top_k)\n",
    "    else:\n",
    "        # Use the provided retrieval function.\n",
    "        top_k_indices = retrieve_function(query=query, top_k=top_k)\n",
    "    \n",
    "    \n",
    "    # Retrieve documents from the dataset using the indices.\n",
    "    relevant_documents = query_news(top_k_indices)\n",
    "    \n",
    "    formatted_documents = []\n",
    "\n",
    "    # Iterate over each retrieved document.\n",
    "    for document in relevant_documents:\n",
    "        # Format each document into a structured string.\n",
    "        formatted_document = (\n",
    "            f\"Title: {document['title']},\\tDescription: {document['description']},\\t\"\n",
    "            f\"Published at: {document['published_at']}\\nURL: {document['url']}\"\n",
    "        )\n",
    "        # Append the formatted string to the main data string with a newline for separation.\n",
    "        formatted_documents.append(formatted_document)\n",
    "\n",
    "    retrieve_data_formatted = \"\\n\".join(formatted_documents)\n",
    "    \n",
    "    prompt = f\"\"\"\n",
    "    **Instructions:**\n",
    "    Answer the user's query by synthesizing your general knowledge with the provided \"2024 News Context\".\n",
    "    This context is recent and should be prioritized. Do not simply repeat the context; integrate it into a comprehensive response.\n",
    "\n",
    "    **User Query:**\n",
    "    {query}\n",
    "\n",
    "    **2024 News Context:**\n",
    "    {retrieve_data_formatted}\n",
    "\n",
    "    **Answer:**\n",
    "    \"\"\"\n",
    "    \n",
    "    return prompt"
   ]
  },
  {
   "cell_type": "code",
   "execution_count": 26,
   "id": "f534ef1b-538a-450a-918d-979cc99e08f4",
   "metadata": {
    "tags": []
   },
   "outputs": [],
   "source": [
    "def llm_call(query, retrieve_function=None, top_k=5, use_rag=True):\n",
    "    prompt = generate_final_prompt(query, top_k=top_k, retrieve_function=retrieve_function, use_rag=use_rag)\n",
    "    generated_response = generate_with_single_input(prompt)\n",
    "    generated_message = generated_response['content']\n",
    "    return generated_message"
   ]
  },
  {
   "cell_type": "code",
   "execution_count": 27,
   "id": "8be624c8-6ff1-42d2-ae24-87d83149658e",
   "metadata": {
    "tags": []
   },
   "outputs": [
    {
     "name": "stdout",
     "output_type": "stream",
     "text": [
      "**Recent News in Technology:**\n",
      "\n",
      "The technology sector has been experiencing significant changes in recent times. One of the key areas of focus is the advancement of Artificial Intelligence (AI) and its impact on the chip industry. According to a recent article by El Pais, the unstoppable advance of AI is changing the rules, creating new winners and losers in the increasingly important semiconductor sector. This has led to a \"Game of Thrones\" scenario in the chip industry, with various players vying for dominance.\n",
      "\n",
      "Another area of interest is the impact of AI on the advertising industry. A slower pace of business in the technology sector has continued to weigh on some ad holding companies in the first quarter, but things might be looking up, according to a recent article by The Wall Street Journal.\n",
      "\n",
      "In terms of market trends, T-Mobile, Imax, Rogers Communications, and other companies have been making headlines in the latest Market Talks covering Technology, Media and Telecom. These companies are navigating the challenges and opportunities presented by the rapidly evolving technology landscape.\n",
      "\n",
      "**Sources:**\n",
      "\n",
      "1. El Pais - \"Artificial intelligence sparks ‘Game of Thrones’ in the chip industry\" (2024-04-12)\n",
      "https://english.elpais.com/technology/2024-04-12/artificial-intelligence-sparks-game-of-thrones-in-the-chip-industry.html\n",
      "2. The Wall Street Journal - \"Tech Spending Still Proves Thorny for Some Advertising Companies\" (2024-04-26)\n",
      "https://www.wsj.com/articles/tech-spending-still-proves-thorny-for-some-advertising-companies-5d8216f2\n",
      "3. The Wall Street Journal - \"Tech, Media & Telecom Roundup: Market Talk\" (2024-04-25)\n",
      "https://www.wsj.com/articles/tech-media-telecom-roundup-market-talk-f4376a81\n"
     ]
    }
   ],
   "source": [
    "query = \"Recent news in technology. Provide sources.\"\n",
    "print(llm_call(query, retrieve_function=semantic_search_retrieve))"
   ]
  },
  {
   "cell_type": "code",
   "execution_count": 28,
   "id": "f7298561-62d2-4266-98a3-d5d5512a48dc",
   "metadata": {
    "tags": []
   },
   "outputs": [
    {
     "data": {
      "application/vnd.jupyter.widget-view+json": {
       "model_id": "",
       "version_major": 2,
       "version_minor": 0
      },
      "text/plain": [
       "Split strings:   0%|          | 0/1 [00:00<?, ?it/s]"
      ]
     },
     "metadata": {},
     "output_type": "display_data"
    },
    {
     "data": {
      "application/vnd.jupyter.widget-view+json": {
       "model_id": "",
       "version_major": 2,
       "version_minor": 0
      },
      "text/plain": [
       "BM25S Retrieve:   0%|          | 0/1 [00:00<?, ?it/s]"
      ]
     },
     "metadata": {},
     "output_type": "display_data"
    },
    {
     "name": "stdout",
     "output_type": "stream",
     "text": [
      "**Recent News in Technology:**\n",
      "\n",
      "In recent news, ByteDance has expressed its reluctance to sell TikTok in the US, citing the app's 'secret source' algorithm as a core part of its operations. This has made a sale of the app highly unlikely, according to sources close to the parent company. (Source: The Guardian, April 25, 2024)\n",
      "\n",
      "On the other hand, Microsoft has seen a rise in profit due to the increasing demand for its software and cloud services, which have been bolstered by the growing use of AI technology. This has prompted the company to invest heavily in infrastructure to accommodate the growing appetite for AI. (Source: The Wall Street Journal, April 26, 2024)\n",
      "\n",
      "Additionally, the Biden administration has announced plans to consolidate approval authority over big power-grid projects to accelerate upgrades and provide access to new clean-energy projects. This move is aimed at promoting the development of clean energy and reducing the country's reliance on fossil fuels. (Source: The Wall Street Journal, April 26, 2024)\n",
      "\n",
      "In other news, the US has announced a $6 billion aid package for Ukraine, which includes the provision of additional Patriot missiles for Ukraine's air defense systems. This move is aimed at supporting Ukraine's efforts to defend itself against Russian aggression. (Source: The Guardian, April 27, 2024)\n",
      "\n",
      "Lastly, Australia has announced a $100 million aid package for Ukraine, which includes critical funding and supplies to support the country's efforts to defend itself against Russian aggression. (Source: News.com.au, April 28, 2024)\n",
      "\n",
      "These are just a few examples of recent news in the technology sector. As the industry continues to evolve, we can expect to see more developments and innovations in the coming months and years.\n"
     ]
    }
   ],
   "source": [
    "query = \"Recent news in technology. Provide sources.\"\n",
    "print(llm_call(query, retrieve_function=bm25_retrieve))"
   ]
  },
  {
   "cell_type": "code",
   "execution_count": 29,
   "id": "2fc976a0-69ac-4018-9934-2e6955a716d0",
   "metadata": {
    "tags": []
   },
   "outputs": [
    {
     "data": {
      "application/vnd.jupyter.widget-view+json": {
       "model_id": "",
       "version_major": 2,
       "version_minor": 0
      },
      "text/plain": [
       "Split strings:   0%|          | 0/1 [00:00<?, ?it/s]"
      ]
     },
     "metadata": {},
     "output_type": "display_data"
    },
    {
     "data": {
      "application/vnd.jupyter.widget-view+json": {
       "model_id": "",
       "version_major": 2,
       "version_minor": 0
      },
      "text/plain": [
       "BM25S Retrieve:   0%|          | 0/1 [00:00<?, ?it/s]"
      ]
     },
     "metadata": {},
     "output_type": "display_data"
    },
    {
     "name": "stdout",
     "output_type": "stream",
     "text": [
      "**Recent News in Technology:**\n",
      "\n",
      "In recent news, ByteDance, the parent company of TikTok, has expressed its preference to shut down the app in the US rather than sell it. This decision is reportedly due to the algorithms used by TikTok being deemed core to ByteDance's overall operations, making a sale highly unlikely. (Source: The Guardian, April 25, 2024)\n",
      "\n",
      "Additionally, the advancement of artificial intelligence (AI) is changing the rules in the semiconductor sector, creating new winners and losers. The unstoppable advance of AI is driving the demand for more powerful and efficient chips, leading to a \"Game of Thrones\" scenario in the industry. (Source: El Pais, April 12, 2024)\n",
      "\n",
      "Furthermore, the Biden administration is consolidating approval authority over big power-grid projects to accelerate upgrades and provide access to new clean-energy projects. This move aims to support the transition to a cleaner and more sustainable energy sector. (Source: The Wall Street Journal, April 26, 2024)\n",
      "\n",
      "Lastly, tech spending continues to be a challenge for some advertising companies, with a slower pace of business in the technology sector weighing on their performance. However, things might be looking up, and the industry is expected to recover. (Source: The Wall Street Journal, April 26, 2024)\n",
      "\n",
      "**Sources:**\n",
      "\n",
      "1. The Guardian: ByteDance would prefer to shut down TikTok rather than sell it\n",
      "2. El Pais: Artificial intelligence sparks 'Game of Thrones' in the chip industry\n",
      "3. The Wall Street Journal: Tech, Media & Telecom Roundup: Market Talk\n",
      "4. The Wall Street Journal: The Biden administration is consolidating approval authority over big power-grid projects\n",
      "5. The Wall Street Journal: Tech spending still proves thorny for some advertising companies\n"
     ]
    }
   ],
   "source": [
    "query = \"Recent news in technology. Provide sources.\"\n",
    "print(llm_call(query, retrieve_function=reciprocal_rank_fusion))"
   ]
  },
  {
   "cell_type": "code",
   "execution_count": null,
   "id": "9b3b621d-8e48-4843-a9a0-7cdaa19d3f10",
   "metadata": {},
   "outputs": [],
   "source": []
  },
  {
   "cell_type": "code",
   "execution_count": null,
   "id": "f4da5b43-6541-4ddd-b87f-2036532e126b",
   "metadata": {},
   "outputs": [],
   "source": []
  },
  {
   "cell_type": "code",
   "execution_count": 30,
   "id": "b0fe21b0-d184-4b8b-88ac-7c57a929aaa1",
   "metadata": {
    "tags": []
   },
   "outputs": [
    {
     "data": {
      "application/vnd.jupyter.widget-view+json": {
       "model_id": "",
       "version_major": 2,
       "version_minor": 0
      },
      "text/plain": [
       "HTML(value='\\n    <style>\\n        .custom-output {\\n            background-color: #f9f9f9;\\n            color…"
      ]
     },
     "metadata": {},
     "output_type": "display_data"
    },
    {
     "data": {
      "application/vnd.jupyter.widget-view+json": {
       "model_id": "",
       "version_major": 2,
       "version_minor": 0
      },
      "text/plain": [
       "Text(value='', layout=Layout(width='100%'), placeholder='Type your query here')"
      ]
     },
     "metadata": {},
     "output_type": "display_data"
    },
    {
     "data": {
      "application/vnd.jupyter.widget-view+json": {
       "model_id": "",
       "version_major": 2,
       "version_minor": 0
      },
      "text/plain": [
       "IntSlider(value=5, description='Top K:', max=20, min=1, style=SliderStyle(description_width='initial'))"
      ]
     },
     "metadata": {},
     "output_type": "display_data"
    },
    {
     "data": {
      "application/vnd.jupyter.widget-view+json": {
       "model_id": "",
       "version_major": 2,
       "version_minor": 0
      },
      "text/plain": [
       "Button(description='Get Responses', style=ButtonStyle(button_color='#eee'))"
      ]
     },
     "metadata": {},
     "output_type": "display_data"
    },
    {
     "data": {
      "application/vnd.jupyter.widget-view+json": {
       "model_id": "",
       "version_major": 2,
       "version_minor": 0
      },
      "text/plain": [
       "Output()"
      ]
     },
     "metadata": {},
     "output_type": "display_data"
    },
    {
     "data": {
      "application/vnd.jupyter.widget-view+json": {
       "model_id": "",
       "version_major": 2,
       "version_minor": 0
      },
      "text/plain": [
       "HBox(children=(VBox(children=(Label(value='Semantic Search'), Output(layout=Layout(border_bottom='1px solid #c…"
      ]
     },
     "metadata": {},
     "output_type": "display_data"
    },
    {
     "data": {
      "application/vnd.jupyter.widget-view+json": {
       "model_id": "",
       "version_major": 2,
       "version_minor": 0
      },
      "text/plain": [
       "HBox(children=(VBox(children=(Label(value='Reciprocal Rank Fusion'), Output(layout=Layout(border_bottom='1px s…"
      ]
     },
     "metadata": {},
     "output_type": "display_data"
    }
   ],
   "source": [
    "display_widget(llm_call, semantic_search_retrieve, bm25_retrieve, reciprocal_rank_fusion)"
   ]
  },
  {
   "cell_type": "code",
   "execution_count": null,
   "id": "9889b5f2-fce1-45e4-8f70-dfdd077178b9",
   "metadata": {},
   "outputs": [],
   "source": []
  },
  {
   "cell_type": "code",
   "execution_count": null,
   "id": "3425ca13-4f54-464d-ba3d-87e0cec13f25",
   "metadata": {},
   "outputs": [],
   "source": []
  }
 ],
 "metadata": {
  "kernelspec": {
   "display_name": "Python 3 (ipykernel)",
   "language": "python",
   "name": "python3"
  },
  "language_info": {
   "codemirror_mode": {
    "name": "ipython",
    "version": 3
   },
   "file_extension": ".py",
   "mimetype": "text/x-python",
   "name": "python",
   "nbconvert_exporter": "python",
   "pygments_lexer": "ipython3",
   "version": "3.12.11"
  }
 },
 "nbformat": 4,
 "nbformat_minor": 5
}
